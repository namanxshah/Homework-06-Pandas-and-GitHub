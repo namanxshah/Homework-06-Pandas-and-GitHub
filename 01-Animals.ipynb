{
 "cells": [
  {
   "cell_type": "markdown",
   "metadata": {},
   "source": [
    "# Homework 5, Part 1: Building a pandas cheat sheet\n",
    "\n",
    "**Use `animals.csv` to answer the following questions.** The data is small and the questions are pretty simple, so hopefully you can use this for pandas reference in the future.\n",
    "\n",
    "> **Don't use ChatGPT for this assignment.** I know I talked about how *yes ChatGPT is great for memorizing pandas stuff* but what I want you to do instead is:\n",
    ">\n",
    "> 1. Try to use tab autocomplete to see what your options might be (e.g. type `df.so` then press tab)\n",
    "> 2. Use shift+tab to read documentation about things (e.g. click `sort_values` then press shift+tab)\n",
    "> 3. Ask in #foundations because it's just TOO QUIET in there\n",
    "> 4. Chat with TAs so you can have Jasen say \"WHY ARE YOU USING df PERIOD, IT SHOULD BE ILLEGAL\""
   ]
  },
  {
   "cell_type": "markdown",
   "metadata": {},
   "source": [
    "## First: things I want you to know first\n",
    "\n",
    "### Counting things\n",
    "\n",
    "If during class we had wanted to know how many countries were on each continent, I would use `df.continent.value_counts()`.\n",
    "\n",
    "Lots of people like to try `groupby` when you're counting things, but in pandas there is only one rule: **every time you want to count things and think you should use groupby.... don't use `groupby`!** Instead use `value_counts()`.\n",
    "\n",
    "### Data types\n",
    "\n",
    "Just like you can have strings and integers in Python, each column can have a different data type. You can run `df.dtypes` or `df.info()` to get the data types of each column.\n",
    "\n",
    "* `int64` is an integer\n",
    "* `float64` is a float/decimal\n",
    "* `object` is *anything else*. This normally means a string.\n",
    "\n",
    "You can also (try to) convert between types! In normal Python it might be `int(age)`, but with pandas you'll use `df.age.astype(int)`\n",
    "\n",
    "\n",
    "### Graphing things\n",
    "\n",
    "Just put `.plot()` on the end of whatever you're looking at. It works like 75% of the time!\n",
    "\n",
    "```python\n",
    "df.groupby('continent').population.sum().plot(kind='barh')\n",
    "```\n",
    "\n",
    "The code above will give me a horizontal bar graph of the sum of each continent's population. Technically speaking it works because the result of the `groupby` and `sum` is a Series, matplotlib plots the index compared to the values. \n",
    "\n",
    "If you have a full dataframe, though, you usually need to give it the `x` and `y`.\n",
    "\n",
    "```python\n",
    "df.plot(x='life_expectancy', y='per_capita_gdp', kind='scatter')\n",
    "```\n",
    "\n",
    "This will give you a scatterplot of each country's life expectancy vs. its per-capita GDP.\n",
    "\n",
    "If you want to use Altair, though, you can find details [on its website](https://altair-viz.github.io/). We'll cover it a lot more in the future!"
   ]
  },
  {
   "cell_type": "markdown",
   "metadata": {},
   "source": [
    "## 0) Setup\n",
    "\n",
    "Import pandas **with the correct name**."
   ]
  },
  {
   "cell_type": "code",
   "execution_count": 2,
   "metadata": {},
   "outputs": [],
   "source": [
    "import pandas"
   ]
  },
  {
   "cell_type": "markdown",
   "metadata": {},
   "source": [
    "## 1) Reading in a csv file\n",
    "\n",
    "Use pandas to read in the animals CSV file, saving it as a variable with the normal name for a dataframe"
   ]
  },
  {
   "cell_type": "code",
   "execution_count": 3,
   "metadata": {},
   "outputs": [
    {
     "data": {
      "text/html": [
       "<div>\n",
       "<style scoped>\n",
       "    .dataframe tbody tr th:only-of-type {\n",
       "        vertical-align: middle;\n",
       "    }\n",
       "\n",
       "    .dataframe tbody tr th {\n",
       "        vertical-align: top;\n",
       "    }\n",
       "\n",
       "    .dataframe thead th {\n",
       "        text-align: right;\n",
       "    }\n",
       "</style>\n",
       "<table border=\"1\" class=\"dataframe\">\n",
       "  <thead>\n",
       "    <tr style=\"text-align: right;\">\n",
       "      <th></th>\n",
       "      <th>animal</th>\n",
       "      <th>name</th>\n",
       "      <th>length</th>\n",
       "    </tr>\n",
       "  </thead>\n",
       "  <tbody>\n",
       "    <tr>\n",
       "      <th>0</th>\n",
       "      <td>cat</td>\n",
       "      <td>Anne</td>\n",
       "      <td>35</td>\n",
       "    </tr>\n",
       "    <tr>\n",
       "      <th>1</th>\n",
       "      <td>cat</td>\n",
       "      <td>Bob</td>\n",
       "      <td>45</td>\n",
       "    </tr>\n",
       "    <tr>\n",
       "      <th>2</th>\n",
       "      <td>dog</td>\n",
       "      <td>Egglesburg</td>\n",
       "      <td>65</td>\n",
       "    </tr>\n",
       "    <tr>\n",
       "      <th>3</th>\n",
       "      <td>dog</td>\n",
       "      <td>Devon</td>\n",
       "      <td>50</td>\n",
       "    </tr>\n",
       "    <tr>\n",
       "      <th>4</th>\n",
       "      <td>cat</td>\n",
       "      <td>Charlie</td>\n",
       "      <td>32</td>\n",
       "    </tr>\n",
       "    <tr>\n",
       "      <th>5</th>\n",
       "      <td>dog</td>\n",
       "      <td>Fontaine</td>\n",
       "      <td>35</td>\n",
       "    </tr>\n",
       "    <tr>\n",
       "      <th>6</th>\n",
       "      <td>cat</td>\n",
       "      <td>Xypher</td>\n",
       "      <td>10</td>\n",
       "    </tr>\n",
       "  </tbody>\n",
       "</table>\n",
       "</div>"
      ],
      "text/plain": [
       "  animal        name  length\n",
       "0    cat        Anne      35\n",
       "1    cat         Bob      45\n",
       "2    dog  Egglesburg      65\n",
       "3    dog       Devon      50\n",
       "4    cat     Charlie      32\n",
       "5    dog    Fontaine      35\n",
       "6    cat      Xypher      10"
      ]
     },
     "execution_count": 3,
     "metadata": {},
     "output_type": "execute_result"
    }
   ],
   "source": [
    "df = pandas.read_csv(\"animals.csv\")\n",
    "df"
   ]
  },
  {
   "cell_type": "markdown",
   "metadata": {},
   "source": [
    "## 2) Checking your data\n",
    "\n",
    "Display the number of rows and columns in your data. Also display the names and data types of each column."
   ]
  },
  {
   "cell_type": "code",
   "execution_count": 11,
   "metadata": {},
   "outputs": [
    {
     "data": {
      "text/plain": [
       "(7, 3)"
      ]
     },
     "execution_count": 11,
     "metadata": {},
     "output_type": "execute_result"
    }
   ],
   "source": [
    "df.shape"
   ]
  },
  {
   "cell_type": "code",
   "execution_count": 65,
   "metadata": {},
   "outputs": [
    {
     "data": {
      "text/plain": [
       "animal    object\n",
       "name      object\n",
       "length     int64\n",
       "dtype: object"
      ]
     },
     "execution_count": 65,
     "metadata": {},
     "output_type": "execute_result"
    }
   ],
   "source": [
    "df.dtypes"
   ]
  },
  {
   "cell_type": "code",
   "execution_count": null,
   "metadata": {},
   "outputs": [],
   "source": []
  },
  {
   "cell_type": "markdown",
   "metadata": {},
   "source": [
    "## 3) Display the first 3 animals\n",
    "\n",
    "Hmmm, we know how to take the first 5, but we really just want the first 3. Maybe there is an option to change how many you get? Use `?` to check the documentation on the command."
   ]
  },
  {
   "cell_type": "code",
   "execution_count": 14,
   "metadata": {},
   "outputs": [
    {
     "data": {
      "text/html": [
       "<div>\n",
       "<style scoped>\n",
       "    .dataframe tbody tr th:only-of-type {\n",
       "        vertical-align: middle;\n",
       "    }\n",
       "\n",
       "    .dataframe tbody tr th {\n",
       "        vertical-align: top;\n",
       "    }\n",
       "\n",
       "    .dataframe thead th {\n",
       "        text-align: right;\n",
       "    }\n",
       "</style>\n",
       "<table border=\"1\" class=\"dataframe\">\n",
       "  <thead>\n",
       "    <tr style=\"text-align: right;\">\n",
       "      <th></th>\n",
       "      <th>animal</th>\n",
       "      <th>name</th>\n",
       "      <th>length</th>\n",
       "    </tr>\n",
       "  </thead>\n",
       "  <tbody>\n",
       "    <tr>\n",
       "      <th>0</th>\n",
       "      <td>cat</td>\n",
       "      <td>Anne</td>\n",
       "      <td>35</td>\n",
       "    </tr>\n",
       "    <tr>\n",
       "      <th>1</th>\n",
       "      <td>cat</td>\n",
       "      <td>Bob</td>\n",
       "      <td>45</td>\n",
       "    </tr>\n",
       "    <tr>\n",
       "      <th>2</th>\n",
       "      <td>dog</td>\n",
       "      <td>Egglesburg</td>\n",
       "      <td>65</td>\n",
       "    </tr>\n",
       "  </tbody>\n",
       "</table>\n",
       "</div>"
      ],
      "text/plain": [
       "  animal        name  length\n",
       "0    cat        Anne      35\n",
       "1    cat         Bob      45\n",
       "2    dog  Egglesburg      65"
      ]
     },
     "execution_count": 14,
     "metadata": {},
     "output_type": "execute_result"
    }
   ],
   "source": [
    "df.head(3)"
   ]
  },
  {
   "cell_type": "markdown",
   "metadata": {},
   "source": [
    "## 4) Sort the animals to show me the 3 longest animals\n",
    "\n",
    "> **TIP:** You can use `.head()` after you sort things!"
   ]
  },
  {
   "cell_type": "code",
   "execution_count": 15,
   "metadata": {},
   "outputs": [
    {
     "data": {
      "text/html": [
       "<div>\n",
       "<style scoped>\n",
       "    .dataframe tbody tr th:only-of-type {\n",
       "        vertical-align: middle;\n",
       "    }\n",
       "\n",
       "    .dataframe tbody tr th {\n",
       "        vertical-align: top;\n",
       "    }\n",
       "\n",
       "    .dataframe thead th {\n",
       "        text-align: right;\n",
       "    }\n",
       "</style>\n",
       "<table border=\"1\" class=\"dataframe\">\n",
       "  <thead>\n",
       "    <tr style=\"text-align: right;\">\n",
       "      <th></th>\n",
       "      <th>animal</th>\n",
       "      <th>name</th>\n",
       "      <th>length</th>\n",
       "    </tr>\n",
       "  </thead>\n",
       "  <tbody>\n",
       "    <tr>\n",
       "      <th>2</th>\n",
       "      <td>dog</td>\n",
       "      <td>Egglesburg</td>\n",
       "      <td>65</td>\n",
       "    </tr>\n",
       "    <tr>\n",
       "      <th>3</th>\n",
       "      <td>dog</td>\n",
       "      <td>Devon</td>\n",
       "      <td>50</td>\n",
       "    </tr>\n",
       "    <tr>\n",
       "      <th>1</th>\n",
       "      <td>cat</td>\n",
       "      <td>Bob</td>\n",
       "      <td>45</td>\n",
       "    </tr>\n",
       "  </tbody>\n",
       "</table>\n",
       "</div>"
      ],
      "text/plain": [
       "  animal        name  length\n",
       "2    dog  Egglesburg      65\n",
       "3    dog       Devon      50\n",
       "1    cat         Bob      45"
      ]
     },
     "execution_count": 15,
     "metadata": {},
     "output_type": "execute_result"
    }
   ],
   "source": [
    "df.sort_values(by='length', ascending=False).head(3)"
   ]
  },
  {
   "cell_type": "markdown",
   "metadata": {},
   "source": [
    "## 5) Get the mean and standard deviation of animal lengths\n",
    "\n",
    "You can do this with separate commands or with a single command.\n",
    "\n",
    "> **Tip:** You don't know how to do standard deviation, but remember when we did `df.so` and hit tab and it suggested some options for sorting? I'm assuming the standard deviation method starts with `s`...."
   ]
  },
  {
   "cell_type": "code",
   "execution_count": 24,
   "metadata": {},
   "outputs": [
    {
     "data": {
      "text/plain": [
       "count     7.000000\n",
       "mean     38.857143\n",
       "std      17.101935\n",
       "min      10.000000\n",
       "25%      33.500000\n",
       "50%      35.000000\n",
       "75%      47.500000\n",
       "max      65.000000\n",
       "Name: length, dtype: float64"
      ]
     },
     "execution_count": 24,
     "metadata": {},
     "output_type": "execute_result"
    }
   ],
   "source": [
    "df['length'].describe()"
   ]
  },
  {
   "cell_type": "markdown",
   "metadata": {},
   "source": [
    "## 6) How many cats do we have and how many dogs?"
   ]
  },
  {
   "cell_type": "code",
   "execution_count": 60,
   "metadata": {},
   "outputs": [
    {
     "data": {
      "text/plain": [
       "animal\n",
       "cat    4\n",
       "dog    3\n",
       "dtype: int64"
      ]
     },
     "execution_count": 60,
     "metadata": {},
     "output_type": "execute_result"
    }
   ],
   "source": [
    "df.groupby('animal').size()"
   ]
  },
  {
   "cell_type": "markdown",
   "metadata": {},
   "source": [
    "## 7) Only display the dogs\n",
    "\n",
    "> **TIP:** It's probably easiest to make it display the list of `True`/`False` first, then wrap the `df[]` around it."
   ]
  },
  {
   "cell_type": "code",
   "execution_count": 11,
   "metadata": {},
   "outputs": [
    {
     "data": {
      "text/plain": [
       "0    False\n",
       "1    False\n",
       "2     True\n",
       "3     True\n",
       "4    False\n",
       "5     True\n",
       "6    False\n",
       "Name: animal, dtype: bool"
      ]
     },
     "execution_count": 11,
     "metadata": {},
     "output_type": "execute_result"
    }
   ],
   "source": [
    "df['animal'] == 'dog'"
   ]
  },
  {
   "cell_type": "code",
   "execution_count": 12,
   "metadata": {},
   "outputs": [
    {
     "data": {
      "text/html": [
       "<div>\n",
       "<style scoped>\n",
       "    .dataframe tbody tr th:only-of-type {\n",
       "        vertical-align: middle;\n",
       "    }\n",
       "\n",
       "    .dataframe tbody tr th {\n",
       "        vertical-align: top;\n",
       "    }\n",
       "\n",
       "    .dataframe thead th {\n",
       "        text-align: right;\n",
       "    }\n",
       "</style>\n",
       "<table border=\"1\" class=\"dataframe\">\n",
       "  <thead>\n",
       "    <tr style=\"text-align: right;\">\n",
       "      <th></th>\n",
       "      <th>animal</th>\n",
       "      <th>name</th>\n",
       "      <th>length</th>\n",
       "    </tr>\n",
       "  </thead>\n",
       "  <tbody>\n",
       "    <tr>\n",
       "      <th>2</th>\n",
       "      <td>dog</td>\n",
       "      <td>Egglesburg</td>\n",
       "      <td>65</td>\n",
       "    </tr>\n",
       "    <tr>\n",
       "      <th>3</th>\n",
       "      <td>dog</td>\n",
       "      <td>Devon</td>\n",
       "      <td>50</td>\n",
       "    </tr>\n",
       "    <tr>\n",
       "      <th>5</th>\n",
       "      <td>dog</td>\n",
       "      <td>Fontaine</td>\n",
       "      <td>35</td>\n",
       "    </tr>\n",
       "  </tbody>\n",
       "</table>\n",
       "</div>"
      ],
      "text/plain": [
       "  animal        name  length\n",
       "2    dog  Egglesburg      65\n",
       "3    dog       Devon      50\n",
       "5    dog    Fontaine      35"
      ]
     },
     "execution_count": 12,
     "metadata": {},
     "output_type": "execute_result"
    }
   ],
   "source": [
    "df[df['animal'] == 'dog']"
   ]
  },
  {
   "cell_type": "code",
   "execution_count": null,
   "metadata": {},
   "outputs": [],
   "source": []
  },
  {
   "cell_type": "code",
   "execution_count": null,
   "metadata": {},
   "outputs": [],
   "source": []
  },
  {
   "cell_type": "markdown",
   "metadata": {},
   "source": [
    "## 8) Only display the animals that are longer than 40cm\n",
    "\n",
    "Do this in **a different way than you did the dogs display**\n",
    "\n",
    "> **TIP:** While the `df[...]` technique is by far the popular approach, `df.query` is (I think) more readable."
   ]
  },
  {
   "cell_type": "code",
   "execution_count": 62,
   "metadata": {},
   "outputs": [
    {
     "name": "stderr",
     "output_type": "stream",
     "text": [
      "C:\\Users\\thequint\\AppData\\Local\\Temp\\ipykernel_16836\\2137649546.py:1: UserWarning: Boolean Series key will be reindexed to match DataFrame index.\n",
      "  df[df.sort_values('animal')['length'] > 40]\n"
     ]
    },
    {
     "data": {
      "text/html": [
       "<div>\n",
       "<style scoped>\n",
       "    .dataframe tbody tr th:only-of-type {\n",
       "        vertical-align: middle;\n",
       "    }\n",
       "\n",
       "    .dataframe tbody tr th {\n",
       "        vertical-align: top;\n",
       "    }\n",
       "\n",
       "    .dataframe thead th {\n",
       "        text-align: right;\n",
       "    }\n",
       "</style>\n",
       "<table border=\"1\" class=\"dataframe\">\n",
       "  <thead>\n",
       "    <tr style=\"text-align: right;\">\n",
       "      <th></th>\n",
       "      <th>animal</th>\n",
       "      <th>name</th>\n",
       "      <th>length</th>\n",
       "    </tr>\n",
       "  </thead>\n",
       "  <tbody>\n",
       "    <tr>\n",
       "      <th>1</th>\n",
       "      <td>cat</td>\n",
       "      <td>Bob</td>\n",
       "      <td>45</td>\n",
       "    </tr>\n",
       "    <tr>\n",
       "      <th>2</th>\n",
       "      <td>dog</td>\n",
       "      <td>Egglesburg</td>\n",
       "      <td>65</td>\n",
       "    </tr>\n",
       "    <tr>\n",
       "      <th>3</th>\n",
       "      <td>dog</td>\n",
       "      <td>Devon</td>\n",
       "      <td>50</td>\n",
       "    </tr>\n",
       "  </tbody>\n",
       "</table>\n",
       "</div>"
      ],
      "text/plain": [
       "  animal        name  length\n",
       "1    cat         Bob      45\n",
       "2    dog  Egglesburg      65\n",
       "3    dog       Devon      50"
      ]
     },
     "execution_count": 62,
     "metadata": {},
     "output_type": "execute_result"
    }
   ],
   "source": [
    "df[df.sort_values('animal')['length'] > 40]"
   ]
  },
  {
   "cell_type": "markdown",
   "metadata": {},
   "source": [
    "## 9) `length` is the animal's length in centimeters. Create a new column called `inches` that is the length in inches.\n",
    "\n",
    "> **TIP:** If your first try fails, remember there are multiple ways to talk about columns, but only one way works to create new ones."
   ]
  },
  {
   "cell_type": "code",
   "execution_count": 65,
   "metadata": {},
   "outputs": [],
   "source": [
    "df['length_inches'] = df['length'] / 2.54"
   ]
  },
  {
   "cell_type": "code",
   "execution_count": 66,
   "metadata": {},
   "outputs": [
    {
     "data": {
      "text/plain": [
       "<bound method DataFrame.sort_values of   animal        name  length  length_inches\n",
       "0    cat        Anne      35      13.779528\n",
       "1    cat         Bob      45      17.716535\n",
       "2    dog  Egglesburg      65      25.590551\n",
       "3    dog       Devon      50      19.685039\n",
       "4    cat     Charlie      32      12.598425\n",
       "5    dog    Fontaine      35      13.779528\n",
       "6    cat      Xypher      10       3.937008>"
      ]
     },
     "execution_count": 66,
     "metadata": {},
     "output_type": "execute_result"
    }
   ],
   "source": [
    "df.sort_values"
   ]
  },
  {
   "cell_type": "markdown",
   "metadata": {},
   "source": [
    "## 10) Save just the cats to a separate variable called `cats`. Save just the dogs to a separate variable called `dogs`.\n",
    "\n",
    "This is the same as listing them, but you just save the result to a variable instead of looking at it. Be sure to use `.head()` to make sure your data looks right.\n",
    "\n",
    "Once you do this, every time you use `cats` you'll only be talking about the cats, and same for the dogs."
   ]
  },
  {
   "cell_type": "code",
   "execution_count": 13,
   "metadata": {},
   "outputs": [],
   "source": [
    "cats = df[df[\"animal\"] == \"cat\"]"
   ]
  },
  {
   "cell_type": "code",
   "execution_count": 14,
   "metadata": {},
   "outputs": [],
   "source": [
    "dogs = df[df[\"animal\"] == \"dog\"]"
   ]
  },
  {
   "cell_type": "code",
   "execution_count": null,
   "metadata": {},
   "outputs": [],
   "source": []
  },
  {
   "cell_type": "markdown",
   "metadata": {},
   "source": [
    "## 11) Display all of the animals that are cats and above 12 inches long.\n",
    "\n",
    "First do it using the `cats` variable, then also do it using your `df` dataframe.\n",
    "\n",
    "> **TIP:** For multiple conditions, you use `df[(one condition) & (another condition)]`"
   ]
  },
  {
   "cell_type": "code",
   "execution_count": 18,
   "metadata": {},
   "outputs": [
    {
     "data": {
      "text/html": [
       "<div>\n",
       "<style scoped>\n",
       "    .dataframe tbody tr th:only-of-type {\n",
       "        vertical-align: middle;\n",
       "    }\n",
       "\n",
       "    .dataframe tbody tr th {\n",
       "        vertical-align: top;\n",
       "    }\n",
       "\n",
       "    .dataframe thead th {\n",
       "        text-align: right;\n",
       "    }\n",
       "</style>\n",
       "<table border=\"1\" class=\"dataframe\">\n",
       "  <thead>\n",
       "    <tr style=\"text-align: right;\">\n",
       "      <th></th>\n",
       "      <th>animal</th>\n",
       "      <th>name</th>\n",
       "      <th>length</th>\n",
       "    </tr>\n",
       "  </thead>\n",
       "  <tbody>\n",
       "    <tr>\n",
       "      <th>0</th>\n",
       "      <td>cat</td>\n",
       "      <td>Anne</td>\n",
       "      <td>35</td>\n",
       "    </tr>\n",
       "    <tr>\n",
       "      <th>1</th>\n",
       "      <td>cat</td>\n",
       "      <td>Bob</td>\n",
       "      <td>45</td>\n",
       "    </tr>\n",
       "    <tr>\n",
       "      <th>4</th>\n",
       "      <td>cat</td>\n",
       "      <td>Charlie</td>\n",
       "      <td>32</td>\n",
       "    </tr>\n",
       "  </tbody>\n",
       "</table>\n",
       "</div>"
      ],
      "text/plain": [
       "  animal     name  length\n",
       "0    cat     Anne      35\n",
       "1    cat      Bob      45\n",
       "4    cat  Charlie      32"
      ]
     },
     "execution_count": 18,
     "metadata": {},
     "output_type": "execute_result"
    }
   ],
   "source": [
    "(cats[cats[\"length\"] > 12])"
   ]
  },
  {
   "cell_type": "code",
   "execution_count": 19,
   "metadata": {},
   "outputs": [
    {
     "data": {
      "text/html": [
       "<div>\n",
       "<style scoped>\n",
       "    .dataframe tbody tr th:only-of-type {\n",
       "        vertical-align: middle;\n",
       "    }\n",
       "\n",
       "    .dataframe tbody tr th {\n",
       "        vertical-align: top;\n",
       "    }\n",
       "\n",
       "    .dataframe thead th {\n",
       "        text-align: right;\n",
       "    }\n",
       "</style>\n",
       "<table border=\"1\" class=\"dataframe\">\n",
       "  <thead>\n",
       "    <tr style=\"text-align: right;\">\n",
       "      <th></th>\n",
       "      <th>animal</th>\n",
       "      <th>name</th>\n",
       "      <th>length</th>\n",
       "    </tr>\n",
       "  </thead>\n",
       "  <tbody>\n",
       "    <tr>\n",
       "      <th>0</th>\n",
       "      <td>cat</td>\n",
       "      <td>Anne</td>\n",
       "      <td>35</td>\n",
       "    </tr>\n",
       "    <tr>\n",
       "      <th>1</th>\n",
       "      <td>cat</td>\n",
       "      <td>Bob</td>\n",
       "      <td>45</td>\n",
       "    </tr>\n",
       "    <tr>\n",
       "      <th>4</th>\n",
       "      <td>cat</td>\n",
       "      <td>Charlie</td>\n",
       "      <td>32</td>\n",
       "    </tr>\n",
       "  </tbody>\n",
       "</table>\n",
       "</div>"
      ],
      "text/plain": [
       "  animal     name  length\n",
       "0    cat     Anne      35\n",
       "1    cat      Bob      45\n",
       "4    cat  Charlie      32"
      ]
     },
     "execution_count": 19,
     "metadata": {},
     "output_type": "execute_result"
    }
   ],
   "source": [
    "(df[(df[\"animal\"] == \"cat\") & (df[\"length\"] > 12)])"
   ]
  },
  {
   "cell_type": "code",
   "execution_count": null,
   "metadata": {},
   "outputs": [],
   "source": []
  },
  {
   "cell_type": "markdown",
   "metadata": {},
   "source": [
    "## 12) What's the mean length of a cat? What's the mean length of a dog?"
   ]
  },
  {
   "cell_type": "code",
   "execution_count": 20,
   "metadata": {},
   "outputs": [
    {
     "data": {
      "text/plain": [
       "np.float64(30.5)"
      ]
     },
     "execution_count": 20,
     "metadata": {},
     "output_type": "execute_result"
    }
   ],
   "source": [
    "cats[\"length\"].mean()"
   ]
  },
  {
   "cell_type": "code",
   "execution_count": 21,
   "metadata": {},
   "outputs": [
    {
     "data": {
      "text/plain": [
       "np.float64(50.0)"
      ]
     },
     "execution_count": 21,
     "metadata": {},
     "output_type": "execute_result"
    }
   ],
   "source": [
    "dogs[\"length\"].mean()"
   ]
  },
  {
   "cell_type": "code",
   "execution_count": null,
   "metadata": {},
   "outputs": [],
   "source": []
  },
  {
   "cell_type": "markdown",
   "metadata": {},
   "source": [
    "## 13) If you didn't already, use `groupby` to do #12 all at once"
   ]
  },
  {
   "cell_type": "code",
   "execution_count": 22,
   "metadata": {},
   "outputs": [
    {
     "data": {
      "text/plain": [
       "animal\n",
       "cat    30.5\n",
       "dog    50.0\n",
       "Name: length, dtype: float64"
      ]
     },
     "execution_count": 22,
     "metadata": {},
     "output_type": "execute_result"
    }
   ],
   "source": [
    "df.groupby('animal')['length'].mean()"
   ]
  },
  {
   "cell_type": "markdown",
   "metadata": {},
   "source": [
    "## 14) Make a histogram of the length of dogs.\n",
    "\n",
    "This is the worst histogram ever\n",
    "\n",
    "> **TIP:** It **does not** use either `plot()` or altair."
   ]
  },
  {
   "cell_type": "code",
   "execution_count": 27,
   "metadata": {},
   "outputs": [
    {
     "name": "stdout",
     "output_type": "stream",
     "text": [
      "Collecting matplotlib\n",
      "  Downloading matplotlib-3.10.3-cp311-cp311-win_amd64.whl.metadata (11 kB)\n",
      "Collecting contourpy>=1.0.1 (from matplotlib)\n",
      "  Downloading contourpy-1.3.2-cp311-cp311-win_amd64.whl.metadata (5.5 kB)\n",
      "Collecting cycler>=0.10 (from matplotlib)\n",
      "  Downloading cycler-0.12.1-py3-none-any.whl.metadata (3.8 kB)\n",
      "Collecting fonttools>=4.22.0 (from matplotlib)\n",
      "  Downloading fonttools-4.58.2-cp311-cp311-win_amd64.whl.metadata (108 kB)\n",
      "     ---------------------------------------- 0.0/108.5 kB ? eta -:--:--\n",
      "     --- ------------------------------------ 10.2/108.5 kB ? eta -:--:--\n",
      "     --------------- ------------------------ 41.0/108.5 kB 653.6 kB/s eta 0:00:01\n",
      "     ---------------------------------------- 108.5/108.5 kB 1.0 MB/s eta 0:00:00\n",
      "Collecting kiwisolver>=1.3.1 (from matplotlib)\n",
      "  Downloading kiwisolver-1.4.8-cp311-cp311-win_amd64.whl.metadata (6.3 kB)\n",
      "Requirement already satisfied: numpy>=1.23 in c:\\users\\thequint\\.pyenv\\pyenv-win\\versions\\3.11.9\\lib\\site-packages (from matplotlib) (2.2.6)\n",
      "Requirement already satisfied: packaging>=20.0 in c:\\users\\thequint\\.pyenv\\pyenv-win\\versions\\3.11.9\\lib\\site-packages (from matplotlib) (25.0)\n",
      "Collecting pillow>=8 (from matplotlib)\n",
      "  Downloading pillow-11.2.1-cp311-cp311-win_amd64.whl.metadata (9.1 kB)\n",
      "Collecting pyparsing>=2.3.1 (from matplotlib)\n",
      "  Downloading pyparsing-3.2.3-py3-none-any.whl.metadata (5.0 kB)\n",
      "Requirement already satisfied: python-dateutil>=2.7 in c:\\users\\thequint\\.pyenv\\pyenv-win\\versions\\3.11.9\\lib\\site-packages (from matplotlib) (2.9.0.post0)\n",
      "Requirement already satisfied: six>=1.5 in c:\\users\\thequint\\.pyenv\\pyenv-win\\versions\\3.11.9\\lib\\site-packages (from python-dateutil>=2.7->matplotlib) (1.17.0)\n",
      "Downloading matplotlib-3.10.3-cp311-cp311-win_amd64.whl (8.1 MB)\n",
      "   ---------------------------------------- 0.0/8.1 MB ? eta -:--:--\n",
      "    --------------------------------------- 0.1/8.1 MB 3.5 MB/s eta 0:00:03\n",
      "   - -------------------------------------- 0.3/8.1 MB 3.8 MB/s eta 0:00:03\n",
      "   -- ------------------------------------- 0.4/8.1 MB 3.7 MB/s eta 0:00:03\n",
      "   -- ------------------------------------- 0.6/8.1 MB 3.7 MB/s eta 0:00:03\n",
      "   --- ------------------------------------ 0.7/8.1 MB 3.9 MB/s eta 0:00:02\n",
      "   --- ------------------------------------ 0.8/8.1 MB 3.1 MB/s eta 0:00:03\n",
      "   ----- ---------------------------------- 1.0/8.1 MB 3.6 MB/s eta 0:00:02\n",
      "   ----- ---------------------------------- 1.1/8.1 MB 3.4 MB/s eta 0:00:03\n",
      "   ------ --------------------------------- 1.3/8.1 MB 3.4 MB/s eta 0:00:03\n",
      "   ------ --------------------------------- 1.3/8.1 MB 3.4 MB/s eta 0:00:02\n",
      "   ------ --------------------------------- 1.4/8.1 MB 3.2 MB/s eta 0:00:03\n",
      "   ------- -------------------------------- 1.5/8.1 MB 3.1 MB/s eta 0:00:03\n",
      "   -------- ------------------------------- 1.6/8.1 MB 3.0 MB/s eta 0:00:03\n",
      "   -------- ------------------------------- 1.8/8.1 MB 3.0 MB/s eta 0:00:03\n",
      "   --------- ------------------------------ 1.9/8.1 MB 3.0 MB/s eta 0:00:03\n",
      "   --------- ------------------------------ 2.0/8.1 MB 3.0 MB/s eta 0:00:03\n",
      "   ---------- ----------------------------- 2.1/8.1 MB 3.0 MB/s eta 0:00:02\n",
      "   ---------- ----------------------------- 2.2/8.1 MB 2.9 MB/s eta 0:00:03\n",
      "   ----------- ---------------------------- 2.3/8.1 MB 3.0 MB/s eta 0:00:02\n",
      "   ----------- ---------------------------- 2.4/8.1 MB 2.9 MB/s eta 0:00:02\n",
      "   ------------ --------------------------- 2.5/8.1 MB 2.9 MB/s eta 0:00:02\n",
      "   ------------- -------------------------- 2.7/8.1 MB 2.9 MB/s eta 0:00:02\n",
      "   ------------- -------------------------- 2.8/8.1 MB 2.9 MB/s eta 0:00:02\n",
      "   -------------- ------------------------- 2.9/8.1 MB 2.9 MB/s eta 0:00:02\n",
      "   --------------- ------------------------ 3.1/8.1 MB 2.9 MB/s eta 0:00:02\n",
      "   ---------------- ----------------------- 3.3/8.1 MB 3.0 MB/s eta 0:00:02\n",
      "   ---------------- ----------------------- 3.3/8.1 MB 3.0 MB/s eta 0:00:02\n",
      "   ----------------- ---------------------- 3.5/8.1 MB 2.9 MB/s eta 0:00:02\n",
      "   ------------------ --------------------- 3.6/8.1 MB 2.9 MB/s eta 0:00:02\n",
      "   ------------------ --------------------- 3.8/8.1 MB 2.9 MB/s eta 0:00:02\n",
      "   ------------------- -------------------- 3.9/8.1 MB 2.9 MB/s eta 0:00:02\n",
      "   -------------------- ------------------- 4.1/8.1 MB 3.0 MB/s eta 0:00:02\n",
      "   --------------------- ------------------ 4.2/8.1 MB 3.0 MB/s eta 0:00:02\n",
      "   --------------------- ------------------ 4.4/8.1 MB 3.0 MB/s eta 0:00:02\n",
      "   ---------------------- ----------------- 4.5/8.1 MB 3.0 MB/s eta 0:00:02\n",
      "   ---------------------- ----------------- 4.6/8.1 MB 3.0 MB/s eta 0:00:02\n",
      "   ----------------------- ---------------- 4.8/8.1 MB 3.0 MB/s eta 0:00:02\n",
      "   ------------------------ --------------- 5.0/8.1 MB 3.0 MB/s eta 0:00:02\n",
      "   ------------------------- -------------- 5.1/8.1 MB 3.0 MB/s eta 0:00:01\n",
      "   -------------------------- ------------- 5.3/8.1 MB 3.0 MB/s eta 0:00:01\n",
      "   -------------------------- ------------- 5.4/8.1 MB 3.0 MB/s eta 0:00:01\n",
      "   --------------------------- ------------ 5.5/8.1 MB 3.0 MB/s eta 0:00:01\n",
      "   ---------------------------- ----------- 5.7/8.1 MB 3.0 MB/s eta 0:00:01\n",
      "   ---------------------------- ----------- 5.7/8.1 MB 3.0 MB/s eta 0:00:01\n",
      "   ---------------------------- ----------- 5.7/8.1 MB 3.0 MB/s eta 0:00:01\n",
      "   ---------------------------- ----------- 5.7/8.1 MB 3.0 MB/s eta 0:00:01\n",
      "   ---------------------------- ----------- 5.7/8.1 MB 3.0 MB/s eta 0:00:01\n",
      "   ---------------------------- ----------- 5.7/8.1 MB 3.0 MB/s eta 0:00:01\n",
      "   ---------------------------- ----------- 5.7/8.1 MB 3.0 MB/s eta 0:00:01\n",
      "   ---------------------------- ----------- 5.7/8.1 MB 3.0 MB/s eta 0:00:01\n",
      "   ---------------------------- ----------- 5.7/8.1 MB 3.0 MB/s eta 0:00:01\n",
      "   ---------------------------- ----------- 5.7/8.1 MB 3.0 MB/s eta 0:00:01\n",
      "   ---------------------------- ----------- 5.7/8.1 MB 3.0 MB/s eta 0:00:01\n",
      "   ---------------------------- ----------- 5.7/8.1 MB 3.0 MB/s eta 0:00:01\n",
      "   ---------------------------- ----------- 5.7/8.1 MB 2.4 MB/s eta 0:00:01\n",
      "   ---------------------------- ----------- 5.8/8.1 MB 2.3 MB/s eta 0:00:01\n",
      "   ---------------------------- ----------- 5.8/8.1 MB 2.3 MB/s eta 0:00:01\n",
      "   ---------------------------- ----------- 5.8/8.1 MB 2.3 MB/s eta 0:00:01\n",
      "   ----------------------------- ---------- 5.9/8.1 MB 2.2 MB/s eta 0:00:01\n",
      "   ----------------------------- ---------- 5.9/8.1 MB 2.2 MB/s eta 0:00:01\n",
      "   ----------------------------- ---------- 6.0/8.1 MB 2.2 MB/s eta 0:00:01\n",
      "   ----------------------------- ---------- 6.0/8.1 MB 2.2 MB/s eta 0:00:01\n",
      "   ----------------------------- ---------- 6.0/8.1 MB 2.2 MB/s eta 0:00:01\n",
      "   ------------------------------ --------- 6.1/8.1 MB 2.1 MB/s eta 0:00:01\n",
      "   ------------------------------ --------- 6.1/8.1 MB 2.1 MB/s eta 0:00:01\n",
      "   ------------------------------ --------- 6.2/8.1 MB 2.1 MB/s eta 0:00:01\n",
      "   ------------------------------ --------- 6.2/8.1 MB 2.1 MB/s eta 0:00:01\n",
      "   ------------------------------- -------- 6.3/8.1 MB 2.1 MB/s eta 0:00:01\n",
      "   ------------------------------- -------- 6.3/8.1 MB 2.1 MB/s eta 0:00:01\n",
      "   ------------------------------- -------- 6.4/8.1 MB 2.1 MB/s eta 0:00:01\n",
      "   -------------------------------- ------- 6.5/8.1 MB 2.0 MB/s eta 0:00:01\n",
      "   -------------------------------- ------- 6.5/8.1 MB 2.0 MB/s eta 0:00:01\n",
      "   -------------------------------- ------- 6.5/8.1 MB 2.0 MB/s eta 0:00:01\n",
      "   -------------------------------- ------- 6.6/8.1 MB 2.0 MB/s eta 0:00:01\n",
      "   -------------------------------- ------- 6.6/8.1 MB 2.0 MB/s eta 0:00:01\n",
      "   -------------------------------- ------- 6.6/8.1 MB 2.0 MB/s eta 0:00:01\n",
      "   -------------------------------- ------- 6.6/8.1 MB 1.9 MB/s eta 0:00:01\n",
      "   -------------------------------- ------- 6.6/8.1 MB 1.9 MB/s eta 0:00:01\n",
      "   -------------------------------- ------- 6.6/8.1 MB 1.9 MB/s eta 0:00:01\n",
      "   --------------------------------- ------ 6.7/8.1 MB 1.9 MB/s eta 0:00:01\n",
      "   --------------------------------- ------ 6.7/8.1 MB 1.9 MB/s eta 0:00:01\n",
      "   --------------------------------- ------ 6.7/8.1 MB 1.9 MB/s eta 0:00:01\n",
      "   --------------------------------- ------ 6.7/8.1 MB 1.9 MB/s eta 0:00:01\n",
      "   --------------------------------- ------ 6.7/8.1 MB 1.8 MB/s eta 0:00:01\n",
      "   --------------------------------- ------ 6.7/8.1 MB 1.8 MB/s eta 0:00:01\n",
      "   --------------------------------- ------ 6.7/8.1 MB 1.8 MB/s eta 0:00:01\n",
      "   --------------------------------- ------ 6.7/8.1 MB 1.8 MB/s eta 0:00:01\n",
      "   --------------------------------- ------ 6.7/8.1 MB 1.8 MB/s eta 0:00:01\n",
      "   --------------------------------- ------ 6.7/8.1 MB 1.8 MB/s eta 0:00:01\n",
      "   --------------------------------- ------ 6.7/8.1 MB 1.7 MB/s eta 0:00:01\n",
      "   --------------------------------- ------ 6.7/8.1 MB 1.7 MB/s eta 0:00:01\n",
      "   --------------------------------- ------ 6.7/8.1 MB 1.7 MB/s eta 0:00:01\n",
      "   --------------------------------- ------ 6.7/8.1 MB 1.7 MB/s eta 0:00:01\n",
      "   --------------------------------- ------ 6.7/8.1 MB 1.7 MB/s eta 0:00:01\n",
      "   --------------------------------- ------ 6.7/8.1 MB 1.7 MB/s eta 0:00:01\n",
      "   --------------------------------- ------ 6.7/8.1 MB 1.7 MB/s eta 0:00:01\n",
      "   --------------------------------- ------ 6.7/8.1 MB 1.7 MB/s eta 0:00:01\n",
      "   --------------------------------- ------ 6.7/8.1 MB 1.7 MB/s eta 0:00:01\n",
      "   --------------------------------- ------ 6.7/8.1 MB 1.7 MB/s eta 0:00:01\n",
      "   --------------------------------- ------ 6.7/8.1 MB 1.7 MB/s eta 0:00:01\n",
      "   --------------------------------- ------ 6.7/8.1 MB 1.7 MB/s eta 0:00:01\n",
      "   --------------------------------- ------ 6.7/8.1 MB 1.7 MB/s eta 0:00:01\n",
      "   --------------------------------- ------ 6.7/8.1 MB 1.7 MB/s eta 0:00:01\n",
      "   --------------------------------- ------ 6.7/8.1 MB 1.7 MB/s eta 0:00:01\n",
      "   --------------------------------- ------ 6.7/8.1 MB 1.7 MB/s eta 0:00:01\n",
      "   --------------------------------- ------ 6.7/8.1 MB 1.7 MB/s eta 0:00:01\n",
      "   --------------------------------- ------ 6.7/8.1 MB 1.7 MB/s eta 0:00:01\n",
      "   --------------------------------- ------ 6.7/8.1 MB 1.7 MB/s eta 0:00:01\n",
      "   --------------------------------- ------ 6.7/8.1 MB 1.7 MB/s eta 0:00:01\n",
      "   --------------------------------- ------ 6.7/8.1 MB 1.7 MB/s eta 0:00:01\n",
      "   --------------------------------- ------ 6.7/8.1 MB 1.7 MB/s eta 0:00:01\n",
      "   --------------------------------- ------ 6.7/8.1 MB 1.7 MB/s eta 0:00:01\n",
      "   --------------------------------- ------ 6.7/8.1 MB 1.7 MB/s eta 0:00:01\n",
      "   --------------------------------- ------ 6.7/8.1 MB 1.7 MB/s eta 0:00:01\n",
      "   --------------------------------- ------ 6.7/8.1 MB 1.7 MB/s eta 0:00:01\n",
      "   --------------------------------- ------ 6.8/8.1 MB 1.3 MB/s eta 0:00:01\n",
      "   --------------------------------- ------ 6.8/8.1 MB 1.3 MB/s eta 0:00:01\n",
      "   ---------------------------------- ----- 6.9/8.1 MB 1.3 MB/s eta 0:00:01\n",
      "   ---------------------------------- ----- 6.9/8.1 MB 1.3 MB/s eta 0:00:01\n",
      "   ---------------------------------- ----- 7.0/8.1 MB 1.3 MB/s eta 0:00:01\n",
      "   ----------------------------------- ---- 7.1/8.1 MB 1.3 MB/s eta 0:00:01\n",
      "   ----------------------------------- ---- 7.2/8.1 MB 1.3 MB/s eta 0:00:01\n",
      "   ------------------------------------ --- 7.3/8.1 MB 1.3 MB/s eta 0:00:01\n",
      "   ------------------------------------ --- 7.4/8.1 MB 1.3 MB/s eta 0:00:01\n",
      "   ------------------------------------- -- 7.5/8.1 MB 1.3 MB/s eta 0:00:01\n",
      "   ------------------------------------- -- 7.7/8.1 MB 1.4 MB/s eta 0:00:01\n",
      "   -------------------------------------- - 7.8/8.1 MB 1.4 MB/s eta 0:00:01\n",
      "   ---------------------------------------  8.0/8.1 MB 1.4 MB/s eta 0:00:01\n",
      "   ---------------------------------------  8.1/8.1 MB 1.4 MB/s eta 0:00:01\n",
      "   ---------------------------------------- 8.1/8.1 MB 1.4 MB/s eta 0:00:00\n",
      "Downloading contourpy-1.3.2-cp311-cp311-win_amd64.whl (222 kB)\n",
      "   ---------------------------------------- 0.0/222.0 kB ? eta -:--:--\n",
      "   -------------------- ------------------- 112.6/222.0 kB 3.3 MB/s eta 0:00:01\n",
      "   ----------------------------------- ---- 194.6/222.0 kB 2.4 MB/s eta 0:00:01\n",
      "   ---------------------------------------- 222.0/222.0 kB 1.9 MB/s eta 0:00:00\n",
      "Downloading cycler-0.12.1-py3-none-any.whl (8.3 kB)\n",
      "Downloading fonttools-4.58.2-cp311-cp311-win_amd64.whl (2.2 MB)\n",
      "   ---------------------------------------- 0.0/2.2 MB ? eta -:--:--\n",
      "   --- ------------------------------------ 0.2/2.2 MB 5.3 MB/s eta 0:00:01\n",
      "   ------ --------------------------------- 0.3/2.2 MB 4.2 MB/s eta 0:00:01\n",
      "   -------- ------------------------------- 0.5/2.2 MB 3.5 MB/s eta 0:00:01\n",
      "   ---------- ----------------------------- 0.6/2.2 MB 3.7 MB/s eta 0:00:01\n",
      "   ------------- -------------------------- 0.8/2.2 MB 3.8 MB/s eta 0:00:01\n",
      "   ----------------- ---------------------- 1.0/2.2 MB 3.9 MB/s eta 0:00:01\n",
      "   --------------------- ------------------ 1.2/2.2 MB 4.2 MB/s eta 0:00:01\n",
      "   ------------------------ --------------- 1.4/2.2 MB 4.2 MB/s eta 0:00:01\n",
      "   --------------------------- ------------ 1.5/2.2 MB 4.1 MB/s eta 0:00:01\n",
      "   ------------------------------ --------- 1.7/2.2 MB 4.0 MB/s eta 0:00:01\n",
      "   ----------------------------------- ---- 2.0/2.2 MB 4.2 MB/s eta 0:00:01\n",
      "   -------------------------------------- - 2.2/2.2 MB 4.2 MB/s eta 0:00:01\n",
      "   ---------------------------------------  2.2/2.2 MB 4.2 MB/s eta 0:00:01\n",
      "   ---------------------------------------- 2.2/2.2 MB 4.0 MB/s eta 0:00:00\n",
      "Downloading kiwisolver-1.4.8-cp311-cp311-win_amd64.whl (71 kB)\n",
      "   ---------------------------------------- 0.0/72.0 kB ? eta -:--:--\n",
      "   ---------------------------------------- 72.0/72.0 kB 2.0 MB/s eta 0:00:00\n",
      "Downloading pillow-11.2.1-cp311-cp311-win_amd64.whl (2.7 MB)\n",
      "   ---------------------------------------- 0.0/2.7 MB ? eta -:--:--\n",
      "   ---- ----------------------------------- 0.3/2.7 MB 8.9 MB/s eta 0:00:01\n",
      "   -------- ------------------------------- 0.6/2.7 MB 5.8 MB/s eta 0:00:01\n",
      "   ----------- ---------------------------- 0.7/2.7 MB 5.2 MB/s eta 0:00:01\n",
      "   ------------- -------------------------- 0.9/2.7 MB 4.6 MB/s eta 0:00:01\n",
      "   ---------------- ----------------------- 1.1/2.7 MB 4.5 MB/s eta 0:00:01\n",
      "   ------------------ --------------------- 1.2/2.7 MB 4.4 MB/s eta 0:00:01\n",
      "   ----------------------- ---------------- 1.6/2.7 MB 4.5 MB/s eta 0:00:01\n",
      "   -------------------------- ------------- 1.8/2.7 MB 4.7 MB/s eta 0:00:01\n",
      "   ------------------------------ --------- 2.1/2.7 MB 4.9 MB/s eta 0:00:01\n",
      "   --------------------------------- ------ 2.2/2.7 MB 4.7 MB/s eta 0:00:01\n",
      "   -------------------------------------- - 2.5/2.7 MB 4.9 MB/s eta 0:00:01\n",
      "   ---------------------------------------  2.7/2.7 MB 4.9 MB/s eta 0:00:01\n",
      "   ---------------------------------------- 2.7/2.7 MB 4.6 MB/s eta 0:00:00\n",
      "Downloading pyparsing-3.2.3-py3-none-any.whl (111 kB)\n",
      "   ---------------------------------------- 0.0/111.1 kB ? eta -:--:--\n",
      "   ------------------------------------ --- 102.4/111.1 kB 5.8 MB/s eta 0:00:01\n",
      "   ---------------------------------------- 111.1/111.1 kB 1.6 MB/s eta 0:00:00\n",
      "Installing collected packages: pyparsing, pillow, kiwisolver, fonttools, cycler, contourpy, matplotlib\n",
      "Successfully installed contourpy-1.3.2 cycler-0.12.1 fonttools-4.58.2 kiwisolver-1.4.8 matplotlib-3.10.3 pillow-11.2.1 pyparsing-3.2.3\n"
     ]
    },
    {
     "name": "stderr",
     "output_type": "stream",
     "text": [
      "\n",
      "[notice] A new release of pip is available: 24.0 -> 25.1.1\n",
      "[notice] To update, run: python.exe -m pip install --upgrade pip\n"
     ]
    }
   ],
   "source": [
    "!pip install matplotlib"
   ]
  },
  {
   "cell_type": "code",
   "execution_count": 28,
   "metadata": {},
   "outputs": [
    {
     "data": {
      "text/plain": [
       "<Axes: >"
      ]
     },
     "execution_count": 28,
     "metadata": {},
     "output_type": "execute_result"
    },
    {
     "data": {
      "image/png": "[encoded data removed]",
      "text/plain": [
       "<Figure size 640x480 with 1 Axes>"
      ]
     },
     "metadata": {},
     "output_type": "display_data"
    }
   ],
   "source": [
    "df[df[\"animal\"] == \"dog\"][\"length\"].hist()"
   ]
  },
  {
   "cell_type": "markdown",
   "metadata": {},
   "source": [
    "## 15) Make a horizontal bar graph of the length of the animals, with the animal's name as the label\n",
    "\n",
    "> **TIP:** It isn't `df['length'].plot()`, because it needs *both* columns. Think about the scatterplot up above.\n",
    ">\n",
    "> **TIP:** Which is the `x` axis and which is the `y` axis? You'll notice pandas is kind of weird and wrong.\n",
    ">\n",
    "> **TIP:** Make sure you specify the `kind` of graph or else it will be a weird line thing\n",
    ">\n",
    "> **TIP:** If you want, you can set a custom size for your plot by sending it something like `figsize=(15,2)`"
   ]
  },
  {
   "cell_type": "code",
   "execution_count": 46,
   "metadata": {},
   "outputs": [
    {
     "data": {
      "text/plain": [
       "<Axes: ylabel='name'>"
      ]
     },
     "execution_count": 46,
     "metadata": {},
     "output_type": "execute_result"
    },
    {
     "data": {
      "image/png": "[encoded data removed]",
      "text/plain": [
       "<Figure size 640x480 with 1 Axes>"
      ]
     },
     "metadata": {},
     "output_type": "display_data"
    }
   ],
   "source": [
    "df.plot(x='name', y='length', kind='barh')"
   ]
  },
  {
   "cell_type": "markdown",
   "metadata": {},
   "source": [
    "## 16) Make a sorted horizontal bar graph of the cats, with the larger cats on top\n",
    "\n",
    "> **TIP:** Think in steps, even though it's all on one line - first make sure you can sort it, then try to graph it."
   ]
  },
  {
   "cell_type": "code",
   "execution_count": 9,
   "metadata": {},
   "outputs": [
    {
     "data": {
      "text/plain": [
       "<Axes: ylabel='name'>"
      ]
     },
     "execution_count": 9,
     "metadata": {},
     "output_type": "execute_result"
    },
    {
     "data": {
      "image/png": "[encoded data removed]",
      "text/plain": [
       "<Figure size 640x480 with 1 Axes>"
      ]
     },
     "metadata": {},
     "output_type": "display_data"
    }
   ],
   "source": [
    "df[df[\"animal\"] == \"cat\"].sort_values(by=\"length\").plot(x='name', y='length', kind='barh')"
   ]
  },
  {
   "cell_type": "markdown",
   "metadata": {},
   "source": [
    "## 17) As a reward (...is it a reward?) for this being the last question: run the following code, then plot the number of dogs vs. the number of cats\n",
    "\n",
    "When you are done, be sure to tell Dhrumil that FiveThirtyEight has been lonely without him.\n",
    "\n",
    "> **TIP:** Counting the number of dogs and number of cats does NOT use `.groupby`! That's only for calculations.\n",
    ">\n",
    "> **TIP:** You can set a title with `title=\"Number of animals\"`"
   ]
  },
  {
   "cell_type": "code",
   "execution_count": 37,
   "metadata": {},
   "outputs": [],
   "source": [
    "import matplotlib.pyplot as plt\n",
    "plt.style.use('fivethirtyeight')"
   ]
  },
  {
   "cell_type": "code",
   "execution_count": 64,
   "metadata": {},
   "outputs": [
    {
     "data": {
      "text/plain": [
       "<Axes: title={'center': 'Number of animals'}, ylabel='animal'>"
      ]
     },
     "execution_count": 64,
     "metadata": {},
     "output_type": "execute_result"
    },
    {
     "data": {
      "image/png": "[encoded data removed]",
      "text/plain": [
       "<Figure size 640x480 with 1 Axes>"
      ]
     },
     "metadata": {},
     "output_type": "display_data"
    }
   ],
   "source": [
    "animal_counts = df[\"animal\"].value_counts()\n",
    "animal_counts.plot(title='Number of animals', kind=\"barh\")"
   ]
  },
  {
   "cell_type": "code",
   "execution_count": null,
   "metadata": {},
   "outputs": [],
   "source": []
  }
 ],
 "metadata": {
  "kernelspec": {
   "display_name": "Python 3 (ipykernel)",
   "language": "python",
   "name": "python3"
  },
  "language_info": {
   "codemirror_mode": {
    "name": "ipython",
    "version": 3
   },
   "file_extension": ".py",
   "mimetype": "text/x-python",
   "name": "python",
   "nbconvert_exporter": "python",
   "pygments_lexer": "ipython3",
   "version": "3.11.9"
  }
 },
 "nbformat": 4,
 "nbformat_minor": 4
}
